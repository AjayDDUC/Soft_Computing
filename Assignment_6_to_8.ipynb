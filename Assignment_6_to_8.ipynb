{
  "nbformat": 4,
  "nbformat_minor": 0,
  "metadata": {
    "colab": {
      "name": "Soft_Computing.ipynb",
      "provenance": [],
      "private_outputs": true,
      "collapsed_sections": []
    },
    "kernelspec": {
      "name": "python3",
      "display_name": "Python 3"
    },
    "accelerator": "GPU"
  },
  "cells": [
    {
      "cell_type": "markdown",
      "metadata": {
        "id": "hGDwCxTl3hbN",
        "colab_type": "text"
      },
      "source": [
        "#Soft_Computing_Assignment 6-8"
      ]
    },
    {
      "cell_type": "markdown",
      "metadata": {
        "id": "_AmTHqPd3nCd",
        "colab_type": "text"
      },
      "source": [
        "#Library Dependences"
      ]
    },
    {
      "cell_type": "code",
      "metadata": {
        "id": "fcWe_jKlQbfz",
        "colab_type": "code",
        "colab": {}
      },
      "source": [
        "import numpy as np\n",
        "import matplotlib.pyplot as plt"
      ],
      "execution_count": null,
      "outputs": []
    },
    {
      "cell_type": "markdown",
      "metadata": {
        "id": "GPRZlaJcp5xk",
        "colab_type": "text"
      },
      "source": [
        "#Assignment 6\n"
      ]
    },
    {
      "cell_type": "markdown",
      "metadata": {
        "id": "U-_skcR0q33p",
        "colab_type": "text"
      },
      "source": [
        "Consider a universe representing room temperature in degree C and other universe representing relative humidity given by\n",
        "\n",
        "T = 0.4/16 +0.8/18+1.0/20+1.0/22+0.8/24+0.5/26\n",
        "\n",
        "H= 0.2/0+0.8/20+1.0/40+0.6/60+0.2/80\n",
        "\n",
        "Calculate the membership of “ Acceptable Temperature OR Acceptable\n",
        "Humidity”."
      ]
    },
    {
      "cell_type": "code",
      "metadata": {
        "id": "-jPkhTK2p1gQ",
        "colab_type": "code",
        "colab": {}
      },
      "source": [
        "import numpy as np\n",
        "import matplotlib.pyplot as plt\n",
        "T = np.array([[16,0.4], [18,0.8], [20,1.0], [22,1.0], [24,.8], [26,0.5]])\n",
        "H= np.array([[0,0.2], [20,0.8], [40,1.0], [60,0.6], [80,0.2]])\n",
        "\n",
        "T_ = np.array([[0,0],[16,0.6],[18,0.8],[20,1.0],[22,1.0],[24,.8],[26,0.7],[40,0],[60,0],[80,0]])\n",
        "H_ = np.array([[0,0.4],[16,0],[18,0],[20,0.8],[22,0],[24,0],[26,0],[40,1.0],[60,0.7],[80,0.4]])\n",
        "\n",
        "def DIL(A):\n",
        "  return np.array([[x,np.sqrt(y)] for x,y in A])\n",
        "\n",
        "def union(A,B):\n",
        "  X = np.array([[x[0],max(x[1],y[1])] for x,y in zip(A,B)])\n",
        "  return X"
      ],
      "execution_count": null,
      "outputs": []
    },
    {
      "cell_type": "code",
      "metadata": {
        "id": "PCvEYArltMMp",
        "colab_type": "code",
        "colab": {}
      },
      "source": [
        "DIL_T = DIL(T)\n",
        "DIL_H = DIL(H)\n",
        "print(\"DIL(T)\\n\",DIL_T)\n",
        "print(\"DIL(H)\\n\",DIL_H)"
      ],
      "execution_count": null,
      "outputs": []
    },
    {
      "cell_type": "code",
      "metadata": {
        "id": "jqktgyLcsLVB",
        "colab_type": "code",
        "colab": {}
      },
      "source": [
        "X = union(T_, H_)\n",
        "print(\"Acceptable Temperature OR Acceptable Humidity:\\n\",X)"
      ],
      "execution_count": null,
      "outputs": []
    },
    {
      "cell_type": "markdown",
      "metadata": {
        "id": "LqTW00lbRAMX",
        "colab_type": "text"
      },
      "source": [
        "#Assignment 7"
      ]
    },
    {
      "cell_type": "markdown",
      "metadata": {
        "id": "wCEj1sHeu5a7",
        "colab_type": "text"
      },
      "source": [
        "Given, following membership functions for fuzzy sets old and young\n",
        "\n",
        "Young(x) = bell(x,[20,2,0] )\n",
        "Old(x) = bell(x,[30,3,100] )\n",
        "\n",
        "Where, x is the age of the person. Calculate the value of the following:\n",
        "1. More or less young\n",
        "2. Not young and not old\n",
        "3. Young but not too young\n",
        "4. Extremely old"
      ]
    },
    {
      "cell_type": "code",
      "metadata": {
        "id": "2IFLZJ4EULoj",
        "colab_type": "code",
        "colab": {}
      },
      "source": [
        "class fuzzy_MF:\n",
        "    def __init__(self):\n",
        "        self.age = np.array([i for i in range(101)])\n",
        "        self.young_param = [20, 2, 0]\n",
        "        self.old_param = [30, 3, 100]\n",
        "        self.young_mfv = self.bell_mf(self.young_param)\n",
        "        self.old_mfv = self.bell_mf(self.old_param)\n",
        "        self.more_less_young = None\n",
        "        self.not_young_not_old = None\n",
        "        self.young_not_too_young = None\n",
        "        self.extremely = None\n",
        "\n",
        "    def bell_mf(self, param):\n",
        "        y = list()\n",
        "        a, b, c = param[0], param[1], param[2]\n",
        "        for x in self.age:\n",
        "            y.append((1/(1+np.abs(((x-c)/a))**(2*b))))\n",
        "        return np.array(y)\n",
        "\n",
        "    def young_old(self):\n",
        "        plt.plot(self.age, self.young_mfv, label=\"Young(x)\")\n",
        "        plt.plot(self.age, self.old_mfv, label=\"Old(x)\")\n",
        "        plt.legend()\n",
        "        plt.show()\n",
        "\n",
        "    def more_or_less_young(self):\n",
        "        self.more_less_young = [np.sqrt(mfv) for mfv in self.young_mfv]\n",
        "        plt.title(\"More or less young\")\n",
        "        plt.plot(self.age, self.young_mfv, label=\"Young(x)\")\n",
        "        plt.plot(self.age, self.old_mfv, label=\"Old(x)\")\n",
        "        plt.plot(self.age, self.more_less_young, label=\"more_or_less_young\")\n",
        "        plt.legend()\n",
        "        plt.show()\n",
        "\n",
        "    def intersection(self, A, B):\n",
        "        return [[max(x, y)] for x, y in zip(A, B)]\n",
        "\n",
        "    def not_young_and_not_old(self):\n",
        "        young_neg = 1-self.young_mfv  # not_young\n",
        "        old_neg = 1-self.old_mfv  # not_old\n",
        "        self.not_young_not_old = self.intersection(young_neg, old_neg)  # not_young_and_not_old\n",
        "        plt.title(\"Not young and not old\")\n",
        "        plt.plot(self.age, self.young_mfv, label=\"Young(x)\")\n",
        "        plt.plot(self.age, self.old_mfv, label=\"Old(x)\")\n",
        "        plt.plot(self.age, self.not_young_not_old,label=\"not_young_and_not_old\")\n",
        "        plt.legend()\n",
        "        plt.show()\n",
        "\n",
        "    def young_but_not_too_young(self):\n",
        "        y = np.array([np.power(mfv, 2) for mfv in self.young_mfv])  # too_young\n",
        "        young_neg = 1-y  # not_too_young\n",
        "        self.young_not_too_young = self.intersection(\n",
        "        self.young_mfv, young_neg)  # young_but_not_too_young\n",
        "        plt.title(\"Young but not too young\")\n",
        "        plt.plot(self.age, self.young_mfv, label=\"Young(x)\")\n",
        "        plt.plot(self.age, self.old_mfv, label=\"Old(x)\")\n",
        "        plt.plot(self.age, self.young_not_too_young,label=\"young_but_not_too_young\")\n",
        "        plt.legend()\n",
        "        plt.show()\n",
        "\n",
        "    def extremely_old(self):\n",
        "        self.extremely = [np.power(mfv, 8)for mfv in self.old_mfv]  # extremly_old\n",
        "        plt.title(\"Extremely old\")\n",
        "        plt.plot(self.age, self.young_mfv, label=\"Young(x)\")\n",
        "        plt.plot(self.age, self.old_mfv, label=\"Old(x)\")\n",
        "        plt.plot(self.age, self.extremely, label=\"extremely_old\")\n",
        "        plt.legend()\n",
        "        plt.show()  "
      ],
      "execution_count": null,
      "outputs": []
    },
    {
      "cell_type": "code",
      "metadata": {
        "id": "T-JoFZwCRkHe",
        "colab_type": "code",
        "colab": {}
      },
      "source": [
        "#Fuzzy_MF Object\n",
        "obj = fuzzy_MF()"
      ],
      "execution_count": null,
      "outputs": []
    },
    {
      "cell_type": "code",
      "metadata": {
        "id": "-YJp9Hd7RfTA",
        "colab_type": "code",
        "colab": {}
      },
      "source": [
        "obj.more_or_less_young()"
      ],
      "execution_count": null,
      "outputs": []
    },
    {
      "cell_type": "code",
      "metadata": {
        "id": "kx6-IuFkVmMU",
        "colab_type": "code",
        "colab": {}
      },
      "source": [
        "obj.not_young_and_not_old()"
      ],
      "execution_count": null,
      "outputs": []
    },
    {
      "cell_type": "code",
      "metadata": {
        "id": "SMf2SYaTWruk",
        "colab_type": "code",
        "colab": {}
      },
      "source": [
        "obj.young_but_not_too_young()"
      ],
      "execution_count": null,
      "outputs": []
    },
    {
      "cell_type": "code",
      "metadata": {
        "id": "-uDJw7dwW2PA",
        "colab_type": "code",
        "colab": {}
      },
      "source": [
        "obj.extremely_old()"
      ],
      "execution_count": null,
      "outputs": []
    },
    {
      "cell_type": "code",
      "metadata": {
        "id": "vwDa9SExuoUE",
        "colab_type": "code",
        "colab": {}
      },
      "source": [
        ""
      ],
      "execution_count": null,
      "outputs": []
    },
    {
      "cell_type": "markdown",
      "metadata": {
        "id": "nDKYV7uywZsF",
        "colab_type": "text"
      },
      "source": [
        "#Assignment 8"
      ]
    },
    {
      "cell_type": "markdown",
      "metadata": {
        "id": "e2bQ3_r2wify",
        "colab_type": "text"
      },
      "source": [
        "Given, following relations:\n",
        "\n",
        "R1 = “x is relevant to y”\n",
        "\n",
        "R2 = “y is relevant to z”\n",
        "\n",
        "Where\n",
        "\n",
        "X= {1, 2, 3}\n",
        "\n",
        "Y= {a,b,c,d}\n",
        "\n",
        "Z = {one, two}\n",
        "\n",
        "Assuming appropriate values for R1 and R2, calculate the max-min\n",
        "composition and max product composition for (3, one)."
      ]
    },
    {
      "cell_type": "markdown",
      "metadata": {
        "id": "gVThK2QtxGGm",
        "colab_type": "text"
      },
      "source": [
        "#Assuming Releation\n",
        "<b>R1: </b>\n",
        "\n",
        "  \n",
        "      a   b   c   d\n",
        "1=>  [.1, .3, .5, .7]\n",
        "\n",
        "2=>  [.4, .2, .8, .9]\n",
        "\n",
        "3=>  [.6, .8, .3, .2] Matrix Order(3,4)\n",
        "\n",
        "<b>R2:</b> \n",
        "\n",
        "    one  two\n",
        "\n",
        "a=> [.9, .1]\n",
        "\n",
        "b=> [.2, .3]\n",
        "\n",
        "c=> [.5, .6]\n",
        "\n",
        "d=> [.7, .2] Matrix Order(4,2)"
      ]
    },
    {
      "cell_type": "code",
      "metadata": {
        "id": "otNERVJywbZ2",
        "colab_type": "code",
        "colab": {}
      },
      "source": [
        "  class Composition:\n",
        "    def __init__(self):\n",
        "        self.R1 = np.array([[.1, .3, .5, .7],\n",
        "                   [.4, .2, .8, .9],\n",
        "                   [.6, .8, .3, .2]])\n",
        "        self.R2 = np.array([[.9, .1],\n",
        "                   [.2, .3],\n",
        "                   [.5, .6],\n",
        "                   [.7, .2]]).T\n",
        "\n",
        "    def max_Production(self):\n",
        "        RoS = [ max([ i*j for x,i in enumerate(row) for y,j in enumerate(col) if x==y]) \n",
        "        for row in self.R1 for col in self.R2]\n",
        "        RoS = np.array(RoS).reshape((self.R1.shape[0],self.R2.shape[0]))\n",
        "        print(\"max-production Composition\\n\",RoS)\n",
        "  \n",
        "\n",
        "    def max_min(self):\n",
        "        R_S = [ max([ min(i,j) for x,i in enumerate(row) for y,j in enumerate(col) if x==y]) \n",
        "        for row in self.R1 for col in self.R2]\n",
        "        R_S = np.array(R_S).reshape((self.R1.shape[0],self.R2.shape[0]))\n",
        "        print(\"min-max Composition\\n\",R_S)\n"
      ],
      "execution_count": null,
      "outputs": []
    },
    {
      "cell_type": "code",
      "metadata": {
        "id": "i6yvNZ6fzNZF",
        "colab_type": "code",
        "colab": {}
      },
      "source": [
        "#Compositon Object\n",
        "obj = Composition()"
      ],
      "execution_count": null,
      "outputs": []
    },
    {
      "cell_type": "code",
      "metadata": {
        "id": "VHztl_MXzTm1",
        "colab_type": "code",
        "colab": {}
      },
      "source": [
        "#Max-Min Compostion\n",
        "obj.max_min()"
      ],
      "execution_count": null,
      "outputs": []
    },
    {
      "cell_type": "code",
      "metadata": {
        "id": "HGh8w3sqzv9D",
        "colab_type": "code",
        "colab": {}
      },
      "source": [
        "#Max-Producation\n",
        "obj.max_Production()"
      ],
      "execution_count": null,
      "outputs": []
    }
  ]
}